{
 "cells": [
  {
   "metadata": {},
   "cell_type": "code",
   "outputs": [],
   "execution_count": null,
   "source": [
    "# convert from non-induced to induced subgraph counting\n",
    "import numpy as np\n",
    "\n",
    "matrix = np.matrix('1 1 1 1 1 1 1 1 1 1 1 1 1 1 1 1 1 1 1 1 1 1 1 1 1 1 1 1 1 1 1 1 1 1 ;'\n",
    "                        '0 1 2 2 3 3 3 4 4 5 6 3 4 4 4 4 5 5 5 5 5 6 6 6 6 6 7 7 7 7 8 8 9 10 ;'\n",
    "                        '0 0 1 0 0 0 1 1 2 2 3 2 3 0 2 3 2 4 3 4 5 5 5 4 6 6 6 6 7 8 10 9 12 15 ;'\n",
    "                        '0 0 0 1 3 3 2 5 4 8 12 1 3 6 4 3 8 6 7 6 5 10 10 11 9 9 15 15 14 13 18 19 24 30 ;'\n",
    "                        '0 0 0 0 1 0 0 1 0 2 4 0 1 0 0 0 1 1 1 0 0 2 2 2 1 0 3 4 3 2 4 5 7 10 ;'\n",
    "                        '0 0 0 0 0 1 0 1 0 2 4 0 0 4 1 0 4 1 2 1 0 4 3 5 2 2 8 7 6 4 8 10 14 20 ;'\n",
    "                        '0 0 0 0 0 0 1 2 4 6 12 0 0 0 2 2 4 4 5 6 5 8 10 10 10 12 18 18 17 18 28 28 42 60 ;'\n",
    "                        '0 0 0 0 0 0 0 1 0 4 12 0 0 0 0 0 2 1 2 0 0 4 5 6 2 0 12 15 10 6 16 22 36 60 ;'\n",
    "                        '0 0 0 0 0 0 0 0 1 1 3 0 0 0 0 0 0 0 0 1 0 0 1 1 1 3 3 3 2 3 5 5 9 15 ;'\n",
    "                        '0 0 0 0 0 0 0 0 0 1 6 0 0 0 0 0 0 0 0 0 0 0 1 1 0 0 3 6 2 1 4 8 15 30 ;'\n",
    "                        '0 0 0 0 0 0 0 0 0 0 1 0 0 0 0 0 0 0 0 0 0 0 0 0 0 0 0 1 0 0 0 1 2 5 ;'\n",
    "                        '0 0 0 0 0 0 0 0 0 0 0 1 3 0 1 2 1 4 2 3 5 6 5 3 7 6 6 6 9 11 16 13 21 30 ;'\n",
    "                        '0 0 0 0 0 0 0 0 0 0 0 0 1 0 0 0 0 1 0 0 0 2 1 0 1 0 0 1 2 2 4 3 6 10 ;'\n",
    "                        '0 0 0 0 0 0 0 0 0 0 0 0 0 1 0 0 1 0 0 0 0 1 0 1 0 0 2 1 1 0 1 2 3 5 ;'\n",
    "                        '0 0 0 0 0 0 0 0 0 0 0 0 0 0 1 0 2 1 2 2 0 4 4 5 4 6 12 9 10 10 20 20 36 60 ;'\n",
    "                        '0 0 0 0 0 0 0 0 0 0 0 0 0 0 0 1 0 2 1 2 5 4 4 2 7 6 6 6 10 14 24 18 36 60 ;'\n",
    "                        '0 0 0 0 0 0 0 0 0 0 0 0 0 0 0 0 1 0 0 0 0 2 0 2 0 0 6 3 3 0 4 8 15 30 ;'\n",
    "                        '0 0 0 0 0 0 0 0 0 0 0 0 0 0 0 0 0 1 0 0 0 4 2 0 2 0 0 3 6 6 16 12 30 60 ;'\n",
    "                        '0 0 0 0 0 0 0 0 0 0 0 0 0 0 0 0 0 0 1 0 0 0 2 2 1 0 6 6 5 4 12 14 30 60 ;'\n",
    "                        '0 0 0 0 0 0 0 0 0 0 0 0 0 0 0 0 0 0 0 1 0 0 1 1 2 6 6 3 4 8 16 12 30 60 ;'\n",
    "                        '0 0 0 0 0 0 0 0 0 0 0 0 0 0 0 0 0 0 0 0 1 0 0 0 1 0 0 0 1 2 4 2 6 12 ;'\n",
    "                        '0 0 0 0 0 0 0 0 0 0 0 0 0 0 0 0 0 0 0 0 0 1 0 0 0 0 0 0 1 0 2 2 6 15 ;'\n",
    "                        '0 0 0 0 0 0 0 0 0 0 0 0 0 0 0 0 0 0 0 0 0 0 1 0 0 0 0 3 2 2 8 8 24 60 ;'\n",
    "                        '0 0 0 0 0 0 0 0 0 0 0 0 0 0 0 0 0 0 0 0 0 0 0 1 0 0 6 3 2 0 4 10 24 60 ;'\n",
    "                        '0 0 0 0 0 0 0 0 0 0 0 0 0 0 0 0 0 0 0 0 0 0 0 0 1 0 0 0 2 4 12 6 24 60 ;'\n",
    "                        '0 0 0 0 0 0 0 0 0 0 0 0 0 0 0 0 0 0 0 0 0 0 0 0 0 1 1 0 0 1 2 1 4 10 ;'\n",
    "                        '0 0 0 0 0 0 0 0 0 0 0 0 0 0 0 0 0 0 0 0 0 0 0 0 0 0 1 0 0 0 0 1 3 10 ;'\n",
    "                        '0 0 0 0 0 0 0 0 0 0 0 0 0 0 0 0 0 0 0 0 0 0 0 0 0 0 0 1 0 0 0 2 6 20 ;'\n",
    "                        '0 0 0 0 0 0 0 0 0 0 0 0 0 0 0 0 0 0 0 0 0 0 0 0 0 0 0 0 1 0 4 4 18 60 ;'\n",
    "                        '0 0 0 0 0 0 0 0 0 0 0 0 0 0 0 0 0 0 0 0 0 0 0 0 0 0 0 0 0 1 4 1 9 30 ;'\n",
    "                        '0 0 0 0 0 0 0 0 0 0 0 0 0 0 0 0 0 0 0 0 0 0 0 0 0 0 0 0 0 0 1 0 3 15 ;'\n",
    "                        '0 0 0 0 0 0 0 0 0 0 0 0 0 0 0 0 0 0 0 0 0 0 0 0 0 0 0 0 0 0 0 1 6 30 ;'\n",
    "                        '0 0 0 0 0 0 0 0 0 0 0 0 0 0 0 0 0 0 0 0 0 0 0 0 0 0 0 0 0 0 0 0 1 10 ;'\n",
    "                        '0 0 0 0 0 0 0 0 0 0 0 0 0 0 0 0 0 0 0 0 0 0 0 0 0 0 0 0 0 0 0 0 0 1'\n",
    "                        )\n",
    "\n",
    "#compute the inverse of the matrix\n",
    "matrix_inv = np.linalg.inv(matrix)\n",
    "\n",
    "dataset_list = ['MUTAG', 'COX2', 'MSRC_21', 'ENZYMES', 'CiteSeer', 'Cora']\n",
    "\n",
    "orbit_index = []"
   ],
   "id": "904f36f30af7d839"
  },
  {
   "cell_type": "code",
   "id": "initial_id",
   "metadata": {
    "collapsed": true,
    "ExecuteTime": {
     "end_time": "2024-07-04T18:22:03.916984Z",
     "start_time": "2024-07-04T18:22:03.909151Z"
    }
   },
   "source": [
    "output = [15, 16, 17]\n",
    "# output = [18, 19, 20, 21]\n",
    "# output = [22, 23]\n",
    "# output = [72]\n",
    "lscs = []\n",
    "for i in output:\n",
    "    path = f'output/Cora/{i}.txt'\n",
    "    # read in as a list of integers\n",
    "    with open(path, 'r') as f:\n",
    "        lscs.append([int(x) for x in f.read().split()])"
   ],
   "outputs": [],
   "execution_count": 34
  },
  {
   "metadata": {
    "ExecuteTime": {
     "end_time": "2024-07-04T18:22:03.921945Z",
     "start_time": "2024-07-04T18:22:03.916984Z"
    }
   },
   "cell_type": "code",
   "source": [
    "# sum all the integers in the list\n",
    "am = [2, 2, 1]\n",
    "# am = [1, 2, 1, 1]\n",
    "# am = [4, 1]\n",
    "for i in range(len(lscs)):\n",
    "    lscs[i] = sum(lscs[i]) / am[i]\n",
    "# count = sum(lscs)"
   ],
   "id": "333acec4e82936f",
   "outputs": [],
   "execution_count": 35
  },
  {
   "metadata": {},
   "cell_type": "markdown",
   "source": [
    "import networkx as nx\n",
    "import matplotlib.pyplot as plt\n",
    "from torch_geometric.datasets import Planetoid\n",
    "from torch_geometric.utils import to_networkx\n",
    "\n",
    "Cora = Planetoid(root='data', name='Cora')\n",
    "Cora_nx = to_networkx(Cora[0], to_undirected=True)\n",
    "# draw the 4-hop ego graph of the node 0\n",
    "ego = nx.ego_graph(Cora_nx, 12, radius=5)\n",
    "# plot the graph\n",
    "plt.figure(figsize=(5, 5))\n",
    "pos = nx.spring_layout(ego, seed=42)\n",
    "nx.draw(ego, pos, with_labels=True, node_color=[[0.75, 0.75, 0.75]])\n",
    "plt.show()"
   ],
   "id": "1a62af7d8dfdc327"
  },
  {
   "metadata": {
    "ExecuteTime": {
     "end_time": "2024-07-07T06:04:45.142855Z",
     "start_time": "2024-07-07T06:04:44.716582Z"
    }
   },
   "cell_type": "code",
   "source": [
    "import os\n",
    "dataset_list = ['MUTAG', 'COX2', 'MSRC_21', 'ENZYMES', 'CiteSeer', 'Cora']\n",
    "for d in dataset_list:\n",
    "    if not os.path.exists(f'processed/{d}'):\n",
    "        os.makedirs(f'processed/{d}')\n",
    "    num_nodes, num_edges = 0, 0\n",
    "    edges = []\n",
    "    indicators = []\n",
    "    for file in os.listdir(f'raw/{d}'):\n",
    "        with open(f'raw/{d}/{file}', 'r') as f:\n",
    "            #get number of nodes and edges from the first line\n",
    "            g_nodes, g_edges = map(int, f.readline().split())\n",
    "            for line in f:\n",
    "                u, v = map(int, line.split())\n",
    "                edges.append((u+num_nodes, v+num_nodes))\n",
    "            indicators.append(g_nodes)\n",
    "            num_nodes += g_nodes\n",
    "            num_edges += g_edges\n",
    "    with open(f'processed/{d}/whole.edges', 'w') as f:\n",
    "        f.write(f'{num_nodes} {num_edges}\\n')\n",
    "        for u, v in edges:\n",
    "            f.write(f'{u} {v}\\n')\n",
    "    with open(f'processed/{d}/whole.indicators', 'w') as f:\n",
    "        f.write(' '.join(map(str, indicators)))"
   ],
   "id": "a6b133743de05bab",
   "outputs": [],
   "execution_count": 38
  }
 ],
 "metadata": {
  "kernelspec": {
   "display_name": "Python 3",
   "language": "python",
   "name": "python3"
  },
  "language_info": {
   "codemirror_mode": {
    "name": "ipython",
    "version": 2
   },
   "file_extension": ".py",
   "mimetype": "text/x-python",
   "name": "python",
   "nbconvert_exporter": "python",
   "pygments_lexer": "ipython2",
   "version": "2.7.6"
  }
 },
 "nbformat": 4,
 "nbformat_minor": 5
}
