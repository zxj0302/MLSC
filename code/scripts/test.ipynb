{
 "cells": [
  {
   "cell_type": "code",
   "execution_count": 5,
   "id": "initial_id",
   "metadata": {
    "collapsed": true
   },
   "outputs": [],
   "source": [
    "import torch\n",
    "import sys\n",
    "import random\n",
    "import re"
   ]
  },
  {
   "cell_type": "code",
   "execution_count": 6,
   "id": "ae2e1cf98feb8b76",
   "metadata": {},
   "outputs": [],
   "source": [
    "class Sampler:\n",
    "    def __init__(self, cons):\n",
    "        self.bounds = {'min': 0, 'max': torch.iinfo(torch.int64).max, 'set': None}\n",
    "        self.attributes = {a: self.bounds[a[-3:]] for a in [f'{pre}_{suf}' for pre in (['num_nodes', 'num_edges', 'degree_avg', 'degree_max', 'diameter', 'clustering'] + [f'{c}{p}' for c in 'in' for p in range(30)]) for suf in ['min', 'max']] + ['domain_set']}\n",
    "        self.constrains = {key: cons[key] for key in cons if key in self.attributes}\n",
    "\n",
    "        lambda_generator = lambda attr: (\n",
    "                'lambda g: ' + (f'torch.max(g.gt_{\"non\" if attr[0] == \"n\" else \"\"}induced_le5[:, {attr[:-4][1:]}]).item()' if bool(re.match(r\"^[in](|1|2)[0-9]_(min|max)$\", attr)) else f'g.{attr[:-4]}' if attr in self.attributes else (lambda: (_ for _ in ()).throw(ValueError(f\"Attribute {attr} not valid\")))()) + {\"min\": \">=\", \"max\": \"<=\", \"set\": \"in\"}[attr[-3:]] + str(self.constrains[attr])\n",
    "        )\n",
    "        # print([lambda_generator(c) for c in self.constrains])\n",
    "        self.conditions = [eval(lambda_generator(c)) for c in self.constrains]\n",
    "        print(f'Constrains: {self.constrains}')\n",
    "\n",
    "    def sample(self, data, k=sys.maxsize, s=None):\n",
    "        random.seed(s)\n",
    "        filtered = [g for g in data if all(c(g) for c in self.conditions)]\n",
    "        print(f'Number of graphs after filtering: {len(filtered)}, number of graphs to sample: {min(k, len(filtered))}')\n",
    "        return random.sample(filtered, min(k, len(filtered)))"
   ]
  },
  {
   "cell_type": "code",
   "execution_count": 7,
   "id": "b3abc4305157cb0d",
   "metadata": {},
   "outputs": [],
   "source": [
    "data = torch.load('/workspace/Data/samples_features.pt')"
   ]
  },
  {
   "cell_type": "code",
   "execution_count": 8,
   "id": "98bfdfe5d230cb1",
   "metadata": {},
   "outputs": [
    {
     "name": "stdout",
     "output_type": "stream",
     "text": [
      "Constrains: {'num_nodes_min': 10, 'num_nodes_max': 30}\n",
      "Number of graphs after filtering: 473, number of graphs to sample: 200\n"
     ]
    }
   ],
   "source": [
    "s = Sampler({'num_nodes_min': 10, 'num_nodes_max': 30, 'degree_max': 5})\n",
    "# the second parameter is the number of graphs to sample, the third parameter is the seed for random sampling\n",
    "res = s.sample(data, 200, 0)\n",
    "\n",
    "# save the sampled graphs\n",
    "torch.save(res, '/workspace/Data/samples/easy-1.pt')"
   ]
  }
 ],
 "metadata": {
  "kernelspec": {
   "display_name": "Python 3",
   "language": "python",
   "name": "python3"
  },
  "language_info": {
   "codemirror_mode": {
    "name": "ipython",
    "version": 3
   },
   "file_extension": ".py",
   "mimetype": "text/x-python",
   "name": "python",
   "nbconvert_exporter": "python",
   "pygments_lexer": "ipython3",
   "version": "3.9.19"
  }
 },
 "nbformat": 4,
 "nbformat_minor": 5
}
